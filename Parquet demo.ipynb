{
 "cells": [
  {
   "cell_type": "code",
   "execution_count": null,
   "id": "10ffab60",
   "metadata": {},
   "outputs": [],
   "source": [
    "import pandas as pd\n",
    "\n",
    "# Sample data\n",
    "data = {\n",
    "    'Name': ['Alice', 'Bob', 'Charlie'],\n",
    "    'Age': [25, 30, 35],\n",
    "    'Salary': [50000, 60000, 70000]\n",
    "}\n",
    "\n",
    "# Create DataFrame\n",
    "df = pd.DataFrame(data)\n",
    "\n",
    "# Save as Parquet\n",
    "df.to_parquet('sample_data.parquet')\n",
    "\n",
    "print(\"Parquet file created.\")\n"
   ]
  },
  {
   "cell_type": "code",
   "execution_count": null,
   "id": "46a4f691",
   "metadata": {},
   "outputs": [],
   "source": [
    "# Load the Parquet file\n",
    "df = pd.read_parquet('sample_data.parquet')\n",
    "\n",
    "# Display the contents\n",
    "print(df)\n"
   ]
  },
  {
   "cell_type": "code",
   "execution_count": null,
   "id": "8b323cf2",
   "metadata": {},
   "outputs": [],
   "source": [
    "\n",
    "# Load using fastparquet\n",
    "df = pd.read_parquet('sample_data.parquet', engine='fastparquet')"
   ]
  },
  {
   "cell_type": "code",
   "execution_count": null,
   "id": "fb706471",
   "metadata": {},
   "outputs": [],
   "source": [
    "# Load using pyarrow\n",
    "df = pd.read_parquet('sample_data.parquet', engine='pyarrow')\n",
    "\n",
    "# OR\n",
    "\n",
    "\n",
    "# Display the contents\n",
    "print(df)\n"
   ]
  }
 ],
 "metadata": {
  "kernelspec": {
   "display_name": "Python 3 (ipykernel)",
   "language": "python",
   "name": "python3"
  },
  "language_info": {
   "codemirror_mode": {
    "name": "ipython",
    "version": 3
   },
   "file_extension": ".py",
   "mimetype": "text/x-python",
   "name": "python",
   "nbconvert_exporter": "python",
   "pygments_lexer": "ipython3",
   "version": "3.11.5"
  }
 },
 "nbformat": 4,
 "nbformat_minor": 5
}
