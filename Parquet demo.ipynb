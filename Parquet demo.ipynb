{
 "cells": [
  {
   "cell_type": "code",
   "execution_count": 1,
   "id": "10ffab60",
   "metadata": {},
   "outputs": [
    {
     "name": "stdout",
     "output_type": "stream",
     "text": [
      "Parquet file created.\n"
     ]
    }
   ],
   "source": [
    "import pandas as pd\n",
    "\n",
    "# Sample data\n",
    "data = {\n",
    "    'Name': ['Alice', 'Bob', 'Charlie'],\n",
    "    'Age': [25, 30, 35],\n",
    "    'Salary': [50000, 60000, 70000]\n",
    "}\n",
    "\n",
    "# Create DataFrame\n",
    "df = pd.DataFrame(data)\n",
    "\n",
    "# Save as Parquet\n",
    "df.to_parquet('sample_data.parquet')\n",
    "\n",
    "print(\"Parquet file created.\")\n"
   ]
  },
  {
   "cell_type": "code",
   "execution_count": 4,
   "id": "06618dbc",
   "metadata": {},
   "outputs": [
    {
     "name": "stdout",
     "output_type": "stream",
     "text": [
      "      Name  Age  Salary\n",
      "0    Alice   25   50000\n",
      "1      Bob   30   60000\n",
      "2  Charlie   35   70000\n"
     ]
    }
   ],
   "source": [
    "# Load using fastparquet\n",
    "df = pd.read_parquet('sample_data.parquet', engine='fastparquet')\n",
    "\n",
    "\n",
    "# Display the contents\n",
    "print(df)\n"
   ]
  },
  {
   "cell_type": "code",
   "execution_count": 5,
   "id": "1fb7c684",
   "metadata": {},
   "outputs": [],
   "source": [
    "# Add a new column: Bonus (10% of salary)\n",
    "df['Bonus']=df['Salary']*.1"
   ]
  },
  {
   "cell_type": "code",
   "execution_count": 6,
   "id": "d192c54e",
   "metadata": {},
   "outputs": [],
   "source": [
    "# Filter employees with a salary greater than 55000\n",
    "filtered_df=df[df['Salary']>55000]"
   ]
  },
  {
   "cell_type": "code",
   "execution_count": 7,
   "id": "7027717b",
   "metadata": {},
   "outputs": [],
   "source": [
    "# Sort by age\n",
    "sorted_df = filtered_df.sort_values(by='Age', ascending=False)"
   ]
  },
  {
   "cell_type": "code",
   "execution_count": 8,
   "id": "a5a0d0c8",
   "metadata": {},
   "outputs": [
    {
     "name": "stdout",
     "output_type": "stream",
     "text": [
      "\n",
      "Filtered and Sorted Data:\n",
      "      Name  Age  Salary   Bonus\n",
      "2  Charlie   35   70000  7000.0\n",
      "1      Bob   30   60000  6000.0\n"
     ]
    }
   ],
   "source": [
    "# Display manipulated data\n",
    "print(\"\\nFiltered and Sorted Data:\")\n",
    "print(sorted_df)"
   ]
  },
  {
   "cell_type": "code",
   "execution_count": 10,
   "id": "d8fa50be",
   "metadata": {},
   "outputs": [
    {
     "name": "stdout",
     "output_type": "stream",
     "text": [
      "\n",
      "Manipulated Parquet file saved as 'manipulated_data.parquet'\n"
     ]
    }
   ],
   "source": [
    "# Save the manipulated data back to a new Parquet file\n",
    "sorted_df.to_parquet('manipulated_data.parquet')\n",
    "\n",
    "print(\"\\nManipulated Parquet file saved as 'manipulated_data.parquet'\")"
   ]
  },
  {
   "cell_type": "code",
   "execution_count": null,
   "id": "7451b40f",
   "metadata": {},
   "outputs": [],
   "source": []
  }
 ],
 "metadata": {
  "kernelspec": {
   "display_name": "Python 3 (ipykernel)",
   "language": "python",
   "name": "python3"
  },
  "language_info": {
   "codemirror_mode": {
    "name": "ipython",
    "version": 3
   },
   "file_extension": ".py",
   "mimetype": "text/x-python",
   "name": "python",
   "nbconvert_exporter": "python",
   "pygments_lexer": "ipython3",
   "version": "3.11.5"
  }
 },
 "nbformat": 4,
 "nbformat_minor": 5
}
